{
 "cells": [
  {
   "cell_type": "markdown",
   "metadata": {},
   "source": [
    "# Q Learning (Deep)"
   ]
  }
 ],
 "metadata": {
  "interpreter": {
   "hash": "22f2ae5abdfe7ffe51fee21849bd178cfe2ce4d57de1af5b7526c7278110c85a"
  },
  "kernelspec": {
   "display_name": "Python 3.9.7 ('ml-torch')",
   "language": "python",
   "name": "python3"
  },
  "language_info": {
   "name": "python",
   "version": "3.9.7"
  },
  "orig_nbformat": 4
 },
 "nbformat": 4,
 "nbformat_minor": 2
}
